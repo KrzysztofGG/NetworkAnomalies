{
 "cells": [
  {
   "cell_type": "markdown",
   "metadata": {
    "collapsed": true,
    "pycharm": {
     "name": "#%% md\n"
    }
   },
   "source": [
    "# Wykrywanie anomalii sieciowych\n",
    "\n",
    "## Zadanie\n",
    "\n",
    "Wytrenować autoenkoder na załaczonych dnaych pomiarowych z sieic AGH. Paietać, że dane to szereg czasowy i autoenkoder trenujemy na oknie o romiarze $w$. Zbudowanie PCA tez będzie unznane, ale na najnizsza ocene umożliwiająca zaliczenie.\n",
    "\n",
    "Uwagi\n",
    "\n",
    "- Główne etapy analizy powinny byc rodzieleone na komórki\n",
    "- Rozwiązanie przysyłamy w formie notatnika z wynikami\n",
    "- Należy skomentować podjete akcje\n",
    "\n",
    "## Dane grupy\n",
    "\n",
    "- Imię i nazwiko1\n",
    "- Imię i nazwiko2"
   ]
  },
  {
   "cell_type": "code",
   "execution_count": null,
   "metadata": {
    "collapsed": false,
    "pycharm": {
     "name": "#%%\n"
    }
   },
   "outputs": [],
   "source": []
  }
 ],
 "metadata": {
  "kernelspec": {
   "display_name": "Python 3",
   "language": "python",
   "name": "python3"
  },
  "language_info": {
   "codemirror_mode": {
    "name": "ipython",
    "version": 2
   },
   "file_extension": ".py",
   "mimetype": "text/x-python",
   "name": "python",
   "nbconvert_exporter": "python",
   "pygments_lexer": "ipython2",
   "version": "2.7.6"
  }
 },
 "nbformat": 4,
 "nbformat_minor": 0
}
